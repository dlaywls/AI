{
  "nbformat": 4,
  "nbformat_minor": 0,
  "metadata": {
    "colab": {
      "provenance": [],
      "gpuType": "T4"
    },
    "kernelspec": {
      "name": "python3",
      "display_name": "Python 3"
    },
    "language_info": {
      "name": "python"
    },
    "accelerator": "GPU"
  },
  "cells": [
    {
      "cell_type": "code",
      "execution_count": 1,
      "metadata": {
        "id": "kp-IeR2sB4BB"
      },
      "outputs": [],
      "source": [
        "import numpy as np\n",
        "import torch\n",
        "import torch.nn as nn\n",
        "import torch.optim as optim\n",
        "import torch.nn.init as init\n",
        "import torchvision.datasets as dset\n",
        "import torchvision.transforms as transforms\n",
        "from torch.utils.data import DataLoader\n",
        "import matplotlib.pyplot as plt\n"
      ]
    },
    {
      "cell_type": "code",
      "source": [
        "batch_size=256\n",
        "learning_rate=0.0002\n",
        "num_epoch=10\n"
      ],
      "metadata": {
        "id": "-KF9Rya5B7ar"
      },
      "execution_count": 2,
      "outputs": []
    },
    {
      "cell_type": "code",
      "source": [
        "mnist_train=dset.MNIST(\"./\",train=True, transform=transforms.ToTensor(),target_transform=None,download=True)\n",
        "mnist_test=dset.MNIST(\"./\",train=False, transform=transforms.ToTensor(),target_transform=None,download=True)"
      ],
      "metadata": {
        "id": "v50eMK4LB9ZW"
      },
      "execution_count": 3,
      "outputs": []
    },
    {
      "cell_type": "code",
      "source": [
        "train_loader=torch.utils.data.DataLoader(mnist_train,batch_size=batch_size,shuffle=True,num_workers=2,drop_last=True)\n",
        "test_loader=torch.utils.data.DataLoader(mnist_test,batch_size=batch_size,shuffle=False,num_workers=2,drop_last=True)"
      ],
      "metadata": {
        "id": "AQIo18_cB_d_"
      },
      "execution_count": 4,
      "outputs": []
    },
    {
      "cell_type": "markdown",
      "source": [
        "# 합성곱 오토인코더 모델 구현 학습 및 결과 확인"
      ],
      "metadata": {
        "id": "ybGUgN92CGDv"
      }
    },
    {
      "cell_type": "code",
      "source": [
        "class Encoder(nn.Module):\n",
        "  def __init__(self):\n",
        "    super(Encoder,self).__init__()\n",
        "    self.layer1=nn.Sequential(\n",
        "        nn.Conv2d(1,16,3,padding=1),\n",
        "        nn.ReLU(),\n",
        "        nn.BatchNorm2d(16),\n",
        "        nn.Conv2d(16,32,3,padding=1),\n",
        "        nn.ReLU(),\n",
        "        nn.BatchNorm2d(32),\n",
        "        nn.Conv2d(32,64,3,padding=1),\n",
        "        nn.ReLU(),\n",
        "        nn.BatchNorm2d(64),\n",
        "        nn.MaxPool2d(2,2)\n",
        "    )\n",
        "    self.layer2=nn.Sequential(\n",
        "         nn.Conv2d(64,128,3,padding=1),\n",
        "        nn.ReLU(),\n",
        "        nn.BatchNorm2d(128),\n",
        "        nn.MaxPool2d(2,2),\n",
        "         nn.Conv2d(128,256,3,padding=1),\n",
        "         nn.ReLU()\n",
        "    )\n",
        "  def forward(self,x):\n",
        "      out=self.layer1(x)\n",
        "      out=self.layer2(out)\n",
        "      out=out.view(batch_size,-1)\n",
        "      return out"
      ],
      "metadata": {
        "id": "c0qDqanVCBl_"
      },
      "execution_count": 5,
      "outputs": []
    },
    {
      "cell_type": "code",
      "source": [
        "class Decoder(nn.Module):\n",
        "  def __init__(self):\n",
        "    super(Decoder,self).__init__()\n",
        "    self.layer1=nn.Sequential(\n",
        "        nn.ConvTranspose2d(256,128,3,2,1,1),\n",
        "        nn.ReLU(),\n",
        "        nn.BatchNorm2d(128),\n",
        "        nn.ConvTranspose2d(128,64,3,1,1),\n",
        "        nn.ReLU(),\n",
        "        nn.BatchNorm2d(64),\n",
        "    )\n",
        "    self.layer2=nn.Sequential(\n",
        "         nn.ConvTranspose2d(64,16,3,1,1),\n",
        "        nn.ReLU(),\n",
        "        nn.BatchNorm2d(16),\n",
        "         nn.ConvTranspose2d(16,1,3,2,1,1),\n",
        "        nn.ReLU(),\n",
        "    )\n",
        "  def forward(self,x):\n",
        "      out=x.view(batch_size,256,7,7)\n",
        "      out=self.layer1(out)\n",
        "      out=self.layer2(out)\n",
        "\n",
        "      return out"
      ],
      "metadata": {
        "id": "mUs-c_JGCJyV"
      },
      "execution_count": 6,
      "outputs": []
    },
    {
      "cell_type": "code",
      "source": [
        "device=torch.device(\"cuda:0\" if torch.cuda.is_available() else 'cpu')\n",
        "print(device)\n",
        "\n",
        "encoder=Encoder().to(device)\n",
        "decoder=Decoder().to(device)\n",
        "\n",
        "parameters=list(encoder.parameters())+list(decoder.parameters())\n",
        "\n",
        "loss_func=nn.MSELoss()\n",
        "optimizer=torch.optim.Adam(parameters,lr=learning_rate)"
      ],
      "metadata": {
        "id": "3Aten9vPCMJq",
        "colab": {
          "base_uri": "https://localhost:8080/"
        },
        "outputId": "c2a67e1c-c40f-4c10-a176-1923d44f87a7"
      },
      "execution_count": 7,
      "outputs": [
        {
          "output_type": "stream",
          "name": "stdout",
          "text": [
            "cuda:0\n"
          ]
        }
      ]
    },
    {
      "cell_type": "code",
      "source": [
        "for i in range(num_epoch):\n",
        "  for j,[image,label]in enumerate(train_loader):\n",
        "    optimizer.zero_grad()\n",
        "    image=image.to(device)\n",
        "\n",
        "    output=encoder(image)\n",
        "    output=decoder(output)\n",
        "\n",
        "    loss=loss_func(output,image)\n",
        "    loss.backward()\n",
        "    optimizer.step()\n",
        "    if j%1000==0:\n",
        "        print(loss)"
      ],
      "metadata": {
        "id": "S21aWC-hCOQY",
        "colab": {
          "base_uri": "https://localhost:8080/"
        },
        "outputId": "e9ebe64e-a3d6-438f-9487-8624125de7dc"
      },
      "execution_count": 8,
      "outputs": [
        {
          "output_type": "stream",
          "name": "stdout",
          "text": [
            "tensor(0.6358, device='cuda:0', grad_fn=<MseLossBackward0>)\n",
            "tensor(0.0152, device='cuda:0', grad_fn=<MseLossBackward0>)\n",
            "tensor(0.0060, device='cuda:0', grad_fn=<MseLossBackward0>)\n",
            "tensor(0.0041, device='cuda:0', grad_fn=<MseLossBackward0>)\n",
            "tensor(0.0033, device='cuda:0', grad_fn=<MseLossBackward0>)\n",
            "tensor(0.0028, device='cuda:0', grad_fn=<MseLossBackward0>)\n",
            "tensor(0.0026, device='cuda:0', grad_fn=<MseLossBackward0>)\n",
            "tensor(0.0022, device='cuda:0', grad_fn=<MseLossBackward0>)\n",
            "tensor(0.0020, device='cuda:0', grad_fn=<MseLossBackward0>)\n",
            "tensor(0.0017, device='cuda:0', grad_fn=<MseLossBackward0>)\n"
          ]
        }
      ]
    },
    {
      "cell_type": "code",
      "source": [
        "out_img=torch.squeeze(output.cpu().data)\n",
        "print(out_img.size())\n",
        "\n",
        "for i in range(5):\n",
        "  plt.subplot(1,2,1)\n",
        "  plt.imshow(torch.squeeze(image[i]).cpu().numpy(),cmap='gray')\n",
        "  plt.subplot(1,2,2)\n",
        "  plt.imshow(out_img[i].numpy(),cmap='gray')\n",
        "  plt.show()"
      ],
      "metadata": {
        "id": "Vg1DachSCQk9",
        "colab": {
          "base_uri": "https://localhost:8080/",
          "height": 1000
        },
        "outputId": "f3dddb0a-ced7-4a07-d063-00e9261cf2f0"
      },
      "execution_count": 9,
      "outputs": [
        {
          "output_type": "stream",
          "name": "stdout",
          "text": [
            "torch.Size([256, 28, 28])\n"
          ]
        },
        {
          "output_type": "display_data",
          "data": {
            "text/plain": [
              "<Figure size 640x480 with 2 Axes>"
            ],
            "image/png": "[encoded data removed]"
          },
          "metadata": {}
        },
        {
          "output_type": "display_data",
          "data": {
            "text/plain": [
              "<Figure size 640x480 with 2 Axes>"
            ],
            "image/png": "[encoded data removed]"
          },
          "metadata": {}
        },
        {
          "output_type": "display_data",
          "data": {
            "text/plain": [
              "<Figure size 640x480 with 2 Axes>"
            ],
            "image/png": "[encoded data removed]"
          },
          "metadata": {}
        },
        {
          "output_type": "display_data",
          "data": {
            "text/plain": [
              "<Figure size 640x480 with 2 Axes>"
            ],
            "image/png": "[encoded data removed]"
          },
          "metadata": {}
        },
        {
          "output_type": "display_data",
          "data": {
            "text/plain": [
              "<Figure size 640x480 with 2 Axes>"
            ],
            "image/png": "[encoded data removed]"
          },
          "metadata": {}
        }
      ]
    }
  ]
}