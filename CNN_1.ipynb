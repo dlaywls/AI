{
  "nbformat": 4,
  "nbformat_minor": 0,
  "metadata": {
    "colab": {
      "provenance": []
    },
    "kernelspec": {
      "name": "python3",
      "display_name": "Python 3"
    },
    "language_info": {
      "name": "python"
    }
  },
  "cells": [
    {
      "cell_type": "code",
      "execution_count": null,
      "metadata": {
        "colab": {
          "base_uri": "https://localhost:8080/"
        },
        "id": "YLPTau44HD6p",
        "outputId": "e8ced0f9-e4ac-4f70-d8c6-f1cde13b4b97"
      },
      "outputs": [
        {
          "output_type": "stream",
          "name": "stdout",
          "text": [
            "2.1.0+cu118\n"
          ]
        }
      ],
      "source": [
        "import torch\n",
        "import torch.nn as nn\n",
        "import torch.optim as optim\n",
        "import torch.nn.init as init\n",
        "\n",
        "import torchvision.datasets as dset\n",
        "\n",
        "import torchvision.transforms as transforms\n",
        "\n",
        "from torch.utils.data import DataLoader\n",
        "\n",
        "import numpy as np\n",
        "import matplotlib.pyplot as plt\n",
        "\n",
        "print(torch.__version__)"
      ]
    },
    {
      "cell_type": "code",
      "source": [
        "batch_size=256\n",
        "learning_rate=0.0002\n",
        "num_epoch=10"
      ],
      "metadata": {
        "id": "DneKecm1IHhg"
      },
      "execution_count": null,
      "outputs": []
    },
    {
      "cell_type": "code",
      "source": [
        "mnist_train=dset.MNIST(root=\"../\",train=True, transform=transforms.ToTensor(),target_transform=None,download=True)\n",
        "mnist_test=dset.MNIST(root=\"../\",train=False, transform=transforms.ToTensor(),target_transform=None,download=True)\n"
      ],
      "metadata": {
        "colab": {
          "base_uri": "https://localhost:8080/"
        },
        "id": "yIng34m0JMYY",
        "outputId": "0bb5b3c2-3d7a-4b90-8ac6-4e7f40348eb0"
      },
      "execution_count": null,
      "outputs": [
        {
          "output_type": "stream",
          "name": "stdout",
          "text": [
            "Downloading http://yann.lecun.com/exdb/mnist/train-images-idx3-ubyte.gz\n",
            "Downloading http://yann.lecun.com/exdb/mnist/train-images-idx3-ubyte.gz to ../MNIST/raw/train-images-idx3-ubyte.gz\n"
          ]
        },
        {
          "output_type": "stream",
          "name": "stderr",
          "text": [
            "100%|██████████| 9912422/9912422 [00:00<00:00, 66725692.27it/s]\n"
          ]
        },
        {
          "output_type": "stream",
          "name": "stdout",
          "text": [
            "Extracting ../MNIST/raw/train-images-idx3-ubyte.gz to ../MNIST/raw\n",
            "\n",
            "Downloading http://yann.lecun.com/exdb/mnist/train-labels-idx1-ubyte.gz\n",
            "Downloading http://yann.lecun.com/exdb/mnist/train-labels-idx1-ubyte.gz to ../MNIST/raw/train-labels-idx1-ubyte.gz\n"
          ]
        },
        {
          "output_type": "stream",
          "name": "stderr",
          "text": [
            "100%|██████████| 28881/28881 [00:00<00:00, 27387676.65it/s]\n"
          ]
        },
        {
          "output_type": "stream",
          "name": "stdout",
          "text": [
            "Extracting ../MNIST/raw/train-labels-idx1-ubyte.gz to ../MNIST/raw\n",
            "\n",
            "Downloading http://yann.lecun.com/exdb/mnist/t10k-images-idx3-ubyte.gz\n",
            "Downloading http://yann.lecun.com/exdb/mnist/t10k-images-idx3-ubyte.gz to ../MNIST/raw/t10k-images-idx3-ubyte.gz\n"
          ]
        },
        {
          "output_type": "stream",
          "name": "stderr",
          "text": [
            "100%|██████████| 1648877/1648877 [00:00<00:00, 27156072.90it/s]\n"
          ]
        },
        {
          "output_type": "stream",
          "name": "stdout",
          "text": [
            "Extracting ../MNIST/raw/t10k-images-idx3-ubyte.gz to ../MNIST/raw\n",
            "\n",
            "Downloading http://yann.lecun.com/exdb/mnist/t10k-labels-idx1-ubyte.gz\n",
            "Downloading http://yann.lecun.com/exdb/mnist/t10k-labels-idx1-ubyte.gz to ../MNIST/raw/t10k-labels-idx1-ubyte.gz\n"
          ]
        },
        {
          "output_type": "stream",
          "name": "stderr",
          "text": [
            "100%|██████████| 4542/4542 [00:00<00:00, 7216109.38it/s]\n"
          ]
        },
        {
          "output_type": "stream",
          "name": "stdout",
          "text": [
            "Extracting ../MNIST/raw/t10k-labels-idx1-ubyte.gz to ../MNIST/raw\n",
            "\n"
          ]
        }
      ]
    },
    {
      "cell_type": "code",
      "source": [
        "print(mnist_train.__getitem__(0)[0].size(),mnist_train.__len__())\n",
        "print(mnist_test.__getitem__(0)[0].size(),mnist_test.__len__())\n",
        "\n",
        "print(len(mnist_train),len(mnist_test))\n"
      ],
      "metadata": {
        "colab": {
          "base_uri": "https://localhost:8080/"
        },
        "id": "H2yAVYlAJy9P",
        "outputId": "2a1acab7-3107-4ee1-9940-ab674cb98a2f"
      },
      "execution_count": null,
      "outputs": [
        {
          "output_type": "stream",
          "name": "stdout",
          "text": [
            "torch.Size([1, 28, 28]) 60000\n",
            "torch.Size([1, 28, 28]) 10000\n",
            "60000 10000\n"
          ]
        }
      ]
    },
    {
      "cell_type": "code",
      "source": [
        "train_loader=DataLoader(mnist_train,batch_size=batch_size,shuffle=True, num_workers=2, drop_last=True)\n",
        "test_loader=DataLoader(mnist_test,batch_size=batch_size,shuffle=False, num_workers=2, drop_last=True)"
      ],
      "metadata": {
        "id": "pMfMLR80KOGd"
      },
      "execution_count": null,
      "outputs": []
    },
    {
      "cell_type": "code",
      "source": [
        "class CNN(nn.Module):\n",
        "  def __init__(self):\n",
        "    super(CNN,self).__init__()\n",
        "    self.layer=nn.Sequential(\n",
        "        nn.Conv2d(in_channels=1,out_channels=16,kernel_size=5),\n",
        "        nn.ReLU(),\n",
        "        nn.Conv2d(in_channels=16,out_channels=32,kernel_size=5),\n",
        "        nn.ReLU(),\n",
        "        nn.MaxPool2d(kernel_size=2,stride=2),\n",
        "        nn.Conv2d(in_channels=32,out_channels=64,kernel_size=5),\n",
        "        nn.ReLU(),\n",
        "        nn.MaxPool2d(kernel_size=2,stride=2),\n",
        "    )\n",
        "    self.fc_layer=nn.Sequential(\n",
        "        nn.Linear(64*3*3,100),\n",
        "        nn.ReLU(),\n",
        "        nn.Linear(100,10)\n",
        "    )\n",
        "\n",
        "  def forward(self,x):\n",
        "    out=self.layer(x)\n",
        "    out=out.view(batch_size,-1)\n",
        "\n",
        "    out=self.fc_layer(out)\n",
        "    return out\n"
      ],
      "metadata": {
        "id": "296xb2m0JsQR"
      },
      "execution_count": null,
      "outputs": []
    },
    {
      "cell_type": "code",
      "source": [
        "device=torch.device(\"cuda:0 \"if torch.cuda.is_available() else\"cpu\")\n",
        "\n",
        "print(device)\n",
        "\n",
        "model=CNN().to(device)\n",
        "\n",
        "loss_func=nn.CrossEntropyLoss()\n",
        "optimizer=torch.optim.Adam(model.parameters(),lr=learning_rate)\n"
      ],
      "metadata": {
        "colab": {
          "base_uri": "https://localhost:8080/"
        },
        "id": "NcJYKDPmMHHf",
        "outputId": "fcf47bdb-4247-4773-a87e-3c835deb44ee"
      },
      "execution_count": null,
      "outputs": [
        {
          "output_type": "stream",
          "name": "stdout",
          "text": [
            "cpu\n"
          ]
        }
      ]
    },
    {
      "cell_type": "code",
      "source": [
        "loss_arr=[]\n",
        "for i in range(num_epoch):\n",
        "  for j,[image,label] in enumerate(train_loader):\n",
        "    x=image.to(device)\n",
        "    y_=label.to(device)\n",
        "\n",
        "    optimizer.zero_grad()\n",
        "    output=model.forward(x)\n",
        "    loss=loss_func(output,y_)\n",
        "    loss.backward()\n",
        "    optimizer.step()\n",
        "\n",
        "    if j % 1000==0:\n",
        "      print(loss)\n",
        "      loss_arr.append(loss.cpu().detach().numpy())\n"
      ],
      "metadata": {
        "colab": {
          "base_uri": "https://localhost:8080/"
        },
        "id": "iqqegC7_M8YJ",
        "outputId": "89b21fc7-1baa-4e53-c6bb-51f9fa705328"
      },
      "execution_count": null,
      "outputs": [
        {
          "output_type": "stream",
          "name": "stdout",
          "text": [
            "tensor(2.2996, grad_fn=<NllLossBackward0>)\n",
            "tensor(0.2141, grad_fn=<NllLossBackward0>)\n",
            "tensor(0.1354, grad_fn=<NllLossBackward0>)\n",
            "tensor(0.1310, grad_fn=<NllLossBackward0>)\n",
            "tensor(0.1118, grad_fn=<NllLossBackward0>)\n",
            "tensor(0.0863, grad_fn=<NllLossBackward0>)\n",
            "tensor(0.0511, grad_fn=<NllLossBackward0>)\n",
            "tensor(0.1076, grad_fn=<NllLossBackward0>)\n",
            "tensor(0.0086, grad_fn=<NllLossBackward0>)\n",
            "tensor(0.0407, grad_fn=<NllLossBackward0>)\n"
          ]
        }
      ]
    },
    {
      "cell_type": "code",
      "source": [
        "plt.plot(loss_arr)\n",
        "plt.show()\n"
      ],
      "metadata": {
        "colab": {
          "base_uri": "https://localhost:8080/",
          "height": 430
        },
        "id": "n_wdjPi0OUBY",
        "outputId": "aee8d98c-dcaf-4690-9c59-f2636fc404df"
      },
      "execution_count": null,
      "outputs": [
        {
          "output_type": "display_data",
          "data": {
            "text/plain": [
              "<Figure size 640x480 with 1 Axes>"
            ],
            "image/png": "[encoded data removed]"
          },
          "metadata": {}
        }
      ]
    },
    {
      "cell_type": "code",
      "source": [
        "correct=0\n",
        "total=0\n",
        "\n",
        "with torch.no_grad():\n",
        "  for image,label in test_loader:\n",
        "    x=image.to(device)\n",
        "    y_=label.to(device)\n",
        "\n",
        "    output=model.forward(x)\n",
        "\n",
        "    _,output_index=torch.max(output,1)\n",
        "\n",
        "    total+=label.size(0)\n",
        "    correct+=(output_index==y_).sum().float()\n",
        "\n",
        "  print(\"Accuracy of Test Data:{}%\".format(100*correct/total))\n"
      ],
      "metadata": {
        "colab": {
          "base_uri": "https://localhost:8080/"
        },
        "id": "kY7iWuUbOYyX",
        "outputId": "5de6738e-8457-44d1-c9d7-33cb8b27a05b"
      },
      "execution_count": null,
      "outputs": [
        {
          "output_type": "stream",
          "name": "stdout",
          "text": [
            "Accuracy of Test Data:98.55769348144531%\n"
          ]
        }
      ]
    }
  ]
}